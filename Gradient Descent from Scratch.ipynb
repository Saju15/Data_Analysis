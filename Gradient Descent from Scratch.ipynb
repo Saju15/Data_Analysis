{
  "cells": [
    {
      "cell_type": "code",
      "execution_count": 13,
      "metadata": {
        "id": "Oq8iIzmWdJR6"
      },
      "outputs": [],
      "source": [
        "import pandas as pd\n",
        "import numpy as np\n",
        "import matplotlib.pyplot as plt\n",
        "import math\n",
        "import copy\n",
        "from sklearn.model_selection import train_test_split"
      ]
    },
    {
      "cell_type": "code",
      "execution_count": 21,
      "metadata": {
        "id": "Ik6fJpsSdJR-"
      },
      "outputs": [],
      "source": [
        "def calculate_cost(features, targets, weights, bias):\n",
        "    \"\"\"\n",
        "    Calculates the cost function for a linear regression model using vectorized operations.\n",
        "\n",
        "    Parameters:\n",
        "    features (numpy.ndarray): The input feature matrix of shape (samples_count, features_count), where samples_count is the number of samples and features_count is the number of features.\n",
        "    targets (numpy.ndarray): The target values of shape (samples_count,).\n",
        "    weights (numpy.ndarray): The weight vector of shape (features_count,).\n",
        "    bias (float): The bias term.\n",
        "\n",
        "    Returns:\n",
        "    float: The cost function value.\n",
        "    \"\"\"\n",
        "    # Question 1.1 (10 points)\n",
        "    # Your code here (remove pass)\n",
        "    samples_count = features.shape[0]\n",
        "\n",
        "    predictions = np.dot(features, weights) + bias\n",
        "\n",
        "    errors = predictions - targets\n",
        "\n",
        "    squared_errors = np.square(errors)\n",
        "\n",
        "    cost = np.mean(squared_errors)\n",
        "\n",
        "    return cost\n"
      ]
    },
    {
      "cell_type": "code",
      "execution_count": 22,
      "metadata": {
        "id": "dtm5eV2YdJR_"
      },
      "outputs": [],
      "source": [
        "def compute_gradients(features_mat, target_vec, weight_vec, bias_val):\n",
        "    \"\"\"\n",
        "    Calculates the gradient of the cost function with respect to the weights and bias using vectorized operations.\n",
        "\n",
        "    Parameters:\n",
        "    features_mat (numpy.ndarray): The input features matrix of shape (sample_size, feature_count), where sample_size is the number of samples and feature_count is the number of features.\n",
        "    target_vec (numpy.ndarray): The target values of shape (sample_size,).\n",
        "    weight_vec (numpy.ndarray): The weight vector of shape (feature_count,).\n",
        "    bias_val (float): The bias term.\n",
        "\n",
        "    Returns:\n",
        "    gradient_bias (float): The gradient of the cost function with respect to the bias.\n",
        "    gradient_weights (numpy.ndarray): The gradient of the cost function with respect to the weights.\n",
        "    \"\"\"\n",
        "    # Question 1.2 (10 points)\n",
        "    # Your code here (remove pass)\n",
        "    sample_size = features_mat.shape[0]\n",
        "\n",
        "    predictions = np.dot(features_mat, weight_vec) + bias_val\n",
        "\n",
        "    errors = predictions - target_vec\n",
        "\n",
        "    gradient_weights = (2 / sample_size) * np.dot(features_mat.T, errors)\n",
        "\n",
        "    gradient_bias = 2 * np.mean(errors)\n",
        "\n",
        "    return gradient_bias, gradient_weights\n"
      ]
    },
    {
      "cell_type": "code",
      "execution_count": 23,
      "metadata": {
        "id": "MDfayRTxdJR_"
      },
      "outputs": [],
      "source": [
        "import copy\n",
        "import math\n",
        "\n",
        "def optimize_via_gradient_descent(input_features, targets, initial_weights, initial_bias, calculate_cost, compute_gradient, learning_rate, iterations):\n",
        "    \"\"\"\n",
        "    Perform optimization using gradient descent to minimize the cost function.\n",
        "\n",
        "    Parameters:\n",
        "    - input_features: Input features (numpy array)\n",
        "    - targets: Target values (numpy array)\n",
        "    - initial_weights: Starting weights (numpy array)\n",
        "    - initial_bias: Starting bias (float)\n",
        "    - calculate_cost: Function to compute the cost (loss) (callable)\n",
        "    - compute_gradient: Function to determine the gradient of the cost function (callable)\n",
        "    - learning_rate: Adjustment rate for each step (float)\n",
        "    - iterations: Total steps for optimization (int)\n",
        "\n",
        "    Returns:\n",
        "    - final_weights: Optimized weights (numpy array)\n",
        "    - final_bias: Optimized bias (float)\n",
        "    - cost_tracker: Record of cost values across steps (list)\n",
        "    \"\"\"\n",
        "    # Question 1.3 (25 points)\n",
        "    # Your code here (remove pass)\n",
        "    weights = copy.deepcopy(initial_weights)\n",
        "    bias = initial_bias\n",
        "    cost_tracker = []\n",
        "\n",
        "    for i in range(iterations):\n",
        "        grad_bias, grad_weights = compute_gradient(input_features, targets, weights, bias)\n",
        "\n",
        "        weights -= learning_rate * grad_weights\n",
        "        bias -= learning_rate * grad_bias\n",
        "\n",
        "        cost = calculate_cost(input_features, targets, weights, bias)\n",
        "        cost_tracker.append(cost)\n",
        "\n",
        "        if i % 100 == 0:\n",
        "            print(f\"Iteration {i:4}: Cost {cost:.2f}\")\n",
        "\n",
        "    return weights, bias, cost_tracker"
      ]
    },
    {
      "cell_type": "code",
      "execution_count": 24,
      "metadata": {
        "id": "a8QMEmPcdJSA"
      },
      "outputs": [],
      "source": [
        "def make_prediction(feature_matrix, weights_vector, bias_value):\n",
        "    \"\"\"\n",
        "    Predicts the output for a given input using the linear regression model.\n",
        "\n",
        "    Parameters:\n",
        "    feature_matrix (numpy.ndarray): The input data of shape (total_samples, total_features).\n",
        "    weights_vector (numpy.ndarray): The weight vector of shape (total_features,).\n",
        "    bias_value (float): The bias term.\n",
        "\n",
        "    Returns:\n",
        "    numpy.ndarray: The predicted output of shape (total_samples,).\n",
        "    \"\"\"\n",
        "    # Question 1.4 (5 points)\n",
        "    # Your code here (remove pass)\n",
        "    predictions = np.dot(feature_matrix, weights_vector) + bias_value\n",
        "\n",
        "    return predictions\n"
      ]
    },
    {
      "cell_type": "code",
      "source": [
        "from google.colab import drive\n",
        "drive.mount('/content/drive')"
      ],
      "metadata": {
        "colab": {
          "base_uri": "https://localhost:8080/"
        },
        "id": "DwxO1c9sfkEY",
        "outputId": "ecfadb19-e23c-4806-94bc-4aca7b58cfe6"
      },
      "execution_count": 18,
      "outputs": [
        {
          "output_type": "stream",
          "name": "stdout",
          "text": [
            "Drive already mounted at /content/drive; to attempt to forcibly remount, call drive.mount(\"/content/drive\", force_remount=True).\n"
          ]
        }
      ]
    },
    {
      "cell_type": "markdown",
      "metadata": {
        "id": "qY48HR71dJSD"
      },
      "source": [
        "The following code performs the following steps:\n",
        "1. Reads the diamonds dataset from a CSV file.\n",
        "2. Converts ordinal variables (cut, color, clarity) into numerical formats.\n",
        "3. Performs feature scaling on selected features.\n",
        "4. Prepares the input features (X) and target variable (y) for gradient descent.\n",
        "5. Splits the dataset into training and testing sets.\n",
        "6. Initializes the parameters for gradient descent.\n",
        "7. Runs gradient descent optimization using the defined functions.\n",
        "8. Displays the optimized parameters and the final cost value."
      ]
    },
    {
      "cell_type": "code",
      "execution_count": 25,
      "metadata": {
        "colab": {
          "base_uri": "https://localhost:8080/"
        },
        "id": "hod-NSKrdJSK",
        "outputId": "6d7d4410-3b43-4c51-879b-f3aed78ef4e6"
      },
      "outputs": [
        {
          "output_type": "stream",
          "name": "stdout",
          "text": [
            "Iteration    0: Cost 28837119.77\n",
            "Iteration  100: Cost 2551690.68\n",
            "Iteration  200: Cost 2098933.18\n",
            "Iteration  300: Cost 1992214.26\n",
            "Iteration  400: Cost 1911502.15\n",
            "Iteration  500: Cost 1845236.54\n",
            "Iteration  600: Cost 1790528.06\n",
            "Iteration  700: Cost 1745273.23\n",
            "Iteration  800: Cost 1707768.19\n",
            "Iteration  900: Cost 1676621.66\n"
          ]
        },
        {
          "output_type": "execute_result",
          "data": {
            "text/plain": [
              "(array([3196.78948613,  141.25628309,  502.72758403,  861.64066526,\n",
              "         -25.23590967,  -43.85267904,  668.63412084,  143.56215306,\n",
              "         107.88217068]),\n",
              " 3928.7916598042093,\n",
              " 1650933.089219062)"
            ]
          },
          "metadata": {},
          "execution_count": 25
        }
      ],
      "source": [
        "\n",
        "\n",
        "# 1. Reads the diamonds dataset from a CSV file.\n",
        "diamonds_df = pd.read_csv('/content/drive/MyDrive/COMP 3401/COMP 3401 - A3/diamonds.csv')\n",
        "\n",
        "\n",
        "# 2. Converts ordinal variables (cut, color, clarity) into numerical formats.\n",
        "cut_mapping = {'Fair': 1, 'Good': 2, 'Very Good': 3, 'Premium': 4, 'Ideal': 5}\n",
        "color_mapping = {'D': 7, 'E': 6, 'F': 5, 'G': 4, 'H': 3, 'I': 2, 'J': 1}\n",
        "clarity_mapping = {'I1': 1, 'SI2': 2, 'SI1': 3, 'VS2': 4, 'VS1': 5, 'VVS2': 6, 'VVS1': 7, 'IF': 8}\n",
        "\n",
        "diamonds_df['cut'] = diamonds_df['cut'].map(cut_mapping).astype(float)\n",
        "diamonds_df['color'] = diamonds_df['color'].map(color_mapping).astype(float)\n",
        "diamonds_df['clarity'] = diamonds_df['clarity'].map(clarity_mapping).astype(float)\n",
        "\n",
        "\n",
        "# 3. Performs feature scaling on selected features (excluding 'price' which is the target variable).\n",
        "features_to_scale = ['carat', 'cut', 'color', 'clarity', 'depth', 'table', 'x', 'y', 'z']\n",
        "for feature in features_to_scale:\n",
        "    mean_value = diamonds_df[feature].mean()\n",
        "    std_value = diamonds_df[feature].std()\n",
        "    diamonds_df[feature] = (diamonds_df[feature] - mean_value) / std_value\n",
        "\n",
        "\n",
        "# 4. Prepares the input features (X) and target variable (y) for gradient descent.\n",
        "X = diamonds_df.drop('price', axis=1).values # Convert dataframe to ndarray for computations\n",
        "y = diamonds_df['price'].values\n",
        "\n",
        "# 5. Splits the dataset into training and testing sets.\n",
        "X_train, X_test, y_train, y_test = train_test_split(X, y, test_size=0.2, random_state=0)\n",
        "\n",
        "# 6. Initializes the parameters for gradient descent.\n",
        "w_initial = np.zeros(X_train.shape[1]) # Initialize w with zeros (n features)\n",
        "b_initial = 0.0 # Initialize bias with zero\n",
        "alpha = 0.01 # Learning rate\n",
        "num_iters = 1000 # Number of iterations to run gradient descent\n",
        "\n",
        "# 7. Runs gradient descent optimization using the defined functions.\n",
        "w_optimized, b_optimized, J_history_optimized = optimize_via_gradient_descent(\n",
        "    X_train, y_train, w_initial, b_initial,\n",
        "    calculate_cost, compute_gradients,\n",
        "    alpha, num_iters\n",
        ")\n",
        "\n",
        "# 8. Displays the optimized parameters and the final cost value.\n",
        "(w_optimized, b_optimized, J_history_optimized[-1])"
      ]
    },
    {
      "cell_type": "code",
      "execution_count": 26,
      "metadata": {
        "colab": {
          "base_uri": "https://localhost:8080/",
          "height": 564
        },
        "id": "7E0s74bCdJSL",
        "outputId": "057becc3-d224-411e-8cdc-60eba845a7d8"
      },
      "outputs": [
        {
          "output_type": "display_data",
          "data": {
            "text/plain": [
              "<Figure size 1000x600 with 1 Axes>"
            ],
            "image/png": "[encoded data removed]"
          },
          "metadata": {}
        }
      ],
      "source": [
        "# Plotting the cost (J_history) over iterations\n",
        "plt.figure(figsize=(10, 6))\n",
        "plt.plot(J_history_optimized, '-b', label='Cost')\n",
        "plt.xlabel('Iteration')\n",
        "plt.ylabel('Cost')\n",
        "plt.title('Cost Reduction over Iterations in Gradient Descent')\n",
        "plt.legend()\n",
        "plt.show()\n"
      ]
    },
    {
      "cell_type": "code",
      "execution_count": 27,
      "metadata": {
        "colab": {
          "base_uri": "https://localhost:8080/"
        },
        "id": "QOKSjGeadJSM",
        "outputId": "6efbce4d-8581-4122-edcf-b39555f46f10"
      },
      "outputs": [
        {
          "output_type": "stream",
          "name": "stdout",
          "text": [
            "Mean Squared Error (MSE) on Test Set: 1619470.06\n",
            "Root Mean Squared Error (RMSE) on Test Set: 1272.58\n"
          ]
        }
      ],
      "source": [
        "# Making predictions on the test set\n",
        "y_pred = make_prediction(X_test, w_optimized, b_optimized)\n",
        "\n",
        "# Calculating the Mean Squared Error (MSE) and Root Mean Squared Error (RMSE) on the test set\n",
        "mse_test = np.mean((y_pred - y_test) ** 2)\n",
        "rmse_test = np.sqrt(mse_test)\n",
        "\n",
        "# Displaying the MSE and RMSE\n",
        "print(f'Mean Squared Error (MSE) on Test Set: {mse_test:.2f}')\n",
        "print(f'Root Mean Squared Error (RMSE) on Test Set: {rmse_test:.2f}')\n"
      ]
    },
    {
      "cell_type": "code",
      "execution_count": 28,
      "metadata": {
        "colab": {
          "base_uri": "https://localhost:8080/"
        },
        "id": "GaqAOfeBdJSM",
        "outputId": "0a321d3f-c38b-41e9-f94c-65714cd3c6f3"
      },
      "outputs": [
        {
          "output_type": "stream",
          "name": "stdout",
          "text": [
            "Mean Squared Error (MSE) on Test Set: 1435761.42\n",
            "Root Mean Squared Error (RMSE) on Test Set: 1198.23\n"
          ]
        }
      ],
      "source": [
        "from sklearn.linear_model import LinearRegression\n",
        "from sklearn.metrics import mean_squared_error\n",
        "\n",
        "# Training the LinearRegression model\n",
        "lr_model = LinearRegression()\n",
        "lr_model.fit(X_train, y_train)\n",
        "\n",
        "# Making predictions on the test set\n",
        "y_pred_lr = lr_model.predict(X_test)\n",
        "\n",
        "# Calculating MSE and RMSE for the predictions\n",
        "mse_test_lr = mean_squared_error(y_test, y_pred_lr)\n",
        "rmse_test_lr = np.sqrt(mse_test_lr)\n",
        "\n",
        "# Displaying the MSE and RMSE\n",
        "print(f'Mean Squared Error (MSE) on Test Set: {mse_test_lr:.2f}')\n",
        "print(f'Root Mean Squared Error (RMSE) on Test Set: {rmse_test_lr:.2f}')\n"
      ]
    },
    {
      "cell_type": "code",
      "execution_count": null,
      "metadata": {
        "id": "-x5mM8medJSN"
      },
      "outputs": [],
      "source": []
    }
  ],
  "metadata": {
    "kernelspec": {
      "display_name": "Python 3 (ipykernel)",
      "language": "python",
      "name": "python3"
    },
    "language_info": {
      "codemirror_mode": {
        "name": "ipython",
        "version": 3
      },
      "file_extension": ".py",
      "mimetype": "text/x-python",
      "name": "python",
      "nbconvert_exporter": "python",
      "pygments_lexer": "ipython3",
      "version": "3.11.5"
    },
    "colab": {
      "provenance": []
    }
  },
  "nbformat": 4,
  "nbformat_minor": 0
}