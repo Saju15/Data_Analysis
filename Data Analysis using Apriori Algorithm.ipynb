{
 "cells": [
  {
   "cell_type": "markdown",
   "id": "80ce2e17-05d0-42b7-b8bd-6aa7c8910fd5",
   "metadata": {
    "id": "80ce2e17-05d0-42b7-b8bd-6aa7c8910fd5"
   },
   "source": [
    "# Frequent Itemset and Association Rules Mining using Apriori Algorithm\n",
    "\n",
    "In this part, you will build a system which can help make recommendations using the Apriori algorithm.\n",
    "\n",
    "To solve this assignment you will need to go though these pages:\n",
    "\n",
    "* https://rasbt.github.io/mlxtend/user_guide/preprocessing/TransactionEncoder/\n",
    "* https://rasbt.github.io/mlxtend/user_guide/frequent_patterns/association_rules/\n",
    "* https://rasbt.github.io/mlxtend/user_guide/frequent_patterns/apriori/\n",
    "* https://rasbt.github.io/mlxtend/user_guide/frequent_patterns/fpgrowth/\n",
    "\n",
    "The `apply` function in `pandas` can prove very useful for this assignment. See https://pandas.pydata.org/docs/reference/api/pandas.DataFrame.apply.html\n",
    "\n",
    "**Source**: Online Retail. (2015). UCI Machine Learning Repository. https://doi.org/10.24432/C5BW33."
   ]
  },
  {
   "cell_type": "code",
   "execution_count": 104,
   "id": "initial_id",
   "metadata": {
    "ExecuteTime": {
     "end_time": "2023-11-05T17:28:39.081606Z",
     "start_time": "2023-11-05T17:28:38.415592Z"
    },
    "id": "initial_id"
   },
   "outputs": [],
   "source": [
    "import pandas as pd\n",
    "from mlxtend.preprocessing import TransactionEncoder\n",
    "from mlxtend.frequent_patterns import apriori\n",
    "from mlxtend.frequent_patterns import association_rules"
   ]
  },
  {
   "cell_type": "markdown",
   "id": "8a4dc81e-f46a-41c6-8d3f-fab667add21e",
   "metadata": {
    "id": "8a4dc81e-f46a-41c6-8d3f-fab667add21e"
   },
   "source": [
    "## Load and Inspect Data"
   ]
  },
  {
   "cell_type": "code",
   "execution_count": 105,
   "id": "176c802c7b145910",
   "metadata": {
    "ExecuteTime": {
     "end_time": "2023-11-04T23:53:55.643667Z",
     "start_time": "2023-11-04T23:53:55.316878Z"
    },
    "colab": {
     "base_uri": "https://localhost:8080/",
     "height": 261
    },
    "collapsed": false,
    "id": "176c802c7b145910",
    "jupyter": {
     "outputs_hidden": false
    },
    "outputId": "91b98aa0-044f-4129-acec-4b4e7cbd2729"
   },
   "outputs": [
    {
     "data": {
      "text/html": [
       "<div>\n",
       "<style scoped>\n",
       "    .dataframe tbody tr th:only-of-type {\n",
       "        vertical-align: middle;\n",
       "    }\n",
       "\n",
       "    .dataframe tbody tr th {\n",
       "        vertical-align: top;\n",
       "    }\n",
       "\n",
       "    .dataframe thead th {\n",
       "        text-align: right;\n",
       "    }\n",
       "</style>\n",
       "<table border=\"1\" class=\"dataframe\">\n",
       "  <thead>\n",
       "    <tr style=\"text-align: right;\">\n",
       "      <th></th>\n",
       "      <th>InvoiceNo</th>\n",
       "      <th>StockCode</th>\n",
       "      <th>Description</th>\n",
       "      <th>Quantity</th>\n",
       "      <th>InvoiceDate</th>\n",
       "      <th>UnitPrice</th>\n",
       "      <th>CustomerID</th>\n",
       "      <th>Country</th>\n",
       "    </tr>\n",
       "  </thead>\n",
       "  <tbody>\n",
       "    <tr>\n",
       "      <th>0</th>\n",
       "      <td>536365</td>\n",
       "      <td>85123A</td>\n",
       "      <td>WHITE HANGING HEART T-LIGHT HOLDER</td>\n",
       "      <td>6</td>\n",
       "      <td>2010-12-01 08:26:00</td>\n",
       "      <td>2.55</td>\n",
       "      <td>17850.0</td>\n",
       "      <td>United Kingdom</td>\n",
       "    </tr>\n",
       "    <tr>\n",
       "      <th>1</th>\n",
       "      <td>536365</td>\n",
       "      <td>71053</td>\n",
       "      <td>WHITE METAL LANTERN</td>\n",
       "      <td>6</td>\n",
       "      <td>2010-12-01 08:26:00</td>\n",
       "      <td>3.39</td>\n",
       "      <td>17850.0</td>\n",
       "      <td>United Kingdom</td>\n",
       "    </tr>\n",
       "    <tr>\n",
       "      <th>2</th>\n",
       "      <td>536365</td>\n",
       "      <td>84406B</td>\n",
       "      <td>CREAM CUPID HEARTS COAT HANGER</td>\n",
       "      <td>8</td>\n",
       "      <td>2010-12-01 08:26:00</td>\n",
       "      <td>2.75</td>\n",
       "      <td>17850.0</td>\n",
       "      <td>United Kingdom</td>\n",
       "    </tr>\n",
       "    <tr>\n",
       "      <th>3</th>\n",
       "      <td>536365</td>\n",
       "      <td>84029G</td>\n",
       "      <td>KNITTED UNION FLAG HOT WATER BOTTLE</td>\n",
       "      <td>6</td>\n",
       "      <td>2010-12-01 08:26:00</td>\n",
       "      <td>3.39</td>\n",
       "      <td>17850.0</td>\n",
       "      <td>United Kingdom</td>\n",
       "    </tr>\n",
       "    <tr>\n",
       "      <th>4</th>\n",
       "      <td>536365</td>\n",
       "      <td>84029E</td>\n",
       "      <td>RED WOOLLY HOTTIE WHITE HEART.</td>\n",
       "      <td>6</td>\n",
       "      <td>2010-12-01 08:26:00</td>\n",
       "      <td>3.39</td>\n",
       "      <td>17850.0</td>\n",
       "      <td>United Kingdom</td>\n",
       "    </tr>\n",
       "  </tbody>\n",
       "</table>\n",
       "</div>"
      ],
      "text/plain": [
       "  InvoiceNo StockCode                          Description  Quantity  \\\n",
       "0    536365    85123A   WHITE HANGING HEART T-LIGHT HOLDER         6   \n",
       "1    536365     71053                  WHITE METAL LANTERN         6   \n",
       "2    536365    84406B       CREAM CUPID HEARTS COAT HANGER         8   \n",
       "3    536365    84029G  KNITTED UNION FLAG HOT WATER BOTTLE         6   \n",
       "4    536365    84029E       RED WOOLLY HOTTIE WHITE HEART.         6   \n",
       "\n",
       "           InvoiceDate  UnitPrice  CustomerID         Country  \n",
       "0  2010-12-01 08:26:00       2.55     17850.0  United Kingdom  \n",
       "1  2010-12-01 08:26:00       3.39     17850.0  United Kingdom  \n",
       "2  2010-12-01 08:26:00       2.75     17850.0  United Kingdom  \n",
       "3  2010-12-01 08:26:00       3.39     17850.0  United Kingdom  \n",
       "4  2010-12-01 08:26:00       3.39     17850.0  United Kingdom  "
      ]
     },
     "execution_count": 105,
     "metadata": {},
     "output_type": "execute_result"
    }
   ],
   "source": [
    "invoices = pd.read_csv('./apriori_data.csv')\n",
    "invoices.head()"
   ]
  },
  {
   "cell_type": "markdown",
   "id": "04a58830-1969-4964-afc9-0f8546b72c3a",
   "metadata": {
    "id": "04a58830-1969-4964-afc9-0f8546b72c3a"
   },
   "source": [
    "## Data Transformation\n",
    "\n",
    "Drop everything except InvoiceNo and StockCode since we can use InvoiceNo for transaction id and StockCode for item name"
   ]
  },
  {
   "cell_type": "code",
   "execution_count": 106,
   "id": "63790ca9e7412402",
   "metadata": {
    "ExecuteTime": {
     "end_time": "2023-11-04T23:53:58.397361Z",
     "start_time": "2023-11-04T23:53:58.393268Z"
    },
    "colab": {
     "base_uri": "https://localhost:8080/"
    },
    "collapsed": false,
    "id": "63790ca9e7412402",
    "jupyter": {
     "outputs_hidden": false
    },
    "outputId": "f283d21e-a8d2-4c26-f99d-99a526881dd3"
   },
   "outputs": [],
   "source": [
    "# Your code here\n",
    "columns_to_drop = {'Description', 'Quantity', 'InvoiceDate', 'UnitPrice', 'CustomerID', 'Country'}\n",
    "data = invoices.drop(columns_to_drop, axis=1)"
   ]
  },
  {
   "cell_type": "code",
   "execution_count": 107,
   "id": "c68c3a4c-f537-472f-9578-00d9f73d8e87",
   "metadata": {
    "colab": {
     "base_uri": "https://localhost:8080/",
     "height": 261
    },
    "id": "c68c3a4c-f537-472f-9578-00d9f73d8e87",
    "outputId": "c82bdb26-1833-4305-bece-67a94d6c2571",
    "scrolled": true
   },
   "outputs": [
    {
     "data": {
      "text/html": [
       "<div>\n",
       "<style scoped>\n",
       "    .dataframe tbody tr th:only-of-type {\n",
       "        vertical-align: middle;\n",
       "    }\n",
       "\n",
       "    .dataframe tbody tr th {\n",
       "        vertical-align: top;\n",
       "    }\n",
       "\n",
       "    .dataframe thead th {\n",
       "        text-align: right;\n",
       "    }\n",
       "</style>\n",
       "<table border=\"1\" class=\"dataframe\">\n",
       "  <thead>\n",
       "    <tr style=\"text-align: right;\">\n",
       "      <th></th>\n",
       "      <th>InvoiceNo</th>\n",
       "      <th>StockCode</th>\n",
       "    </tr>\n",
       "  </thead>\n",
       "  <tbody>\n",
       "    <tr>\n",
       "      <th>0</th>\n",
       "      <td>536365</td>\n",
       "      <td>85123A</td>\n",
       "    </tr>\n",
       "    <tr>\n",
       "      <th>1</th>\n",
       "      <td>536365</td>\n",
       "      <td>71053</td>\n",
       "    </tr>\n",
       "    <tr>\n",
       "      <th>2</th>\n",
       "      <td>536365</td>\n",
       "      <td>84406B</td>\n",
       "    </tr>\n",
       "    <tr>\n",
       "      <th>3</th>\n",
       "      <td>536365</td>\n",
       "      <td>84029G</td>\n",
       "    </tr>\n",
       "    <tr>\n",
       "      <th>4</th>\n",
       "      <td>536365</td>\n",
       "      <td>84029E</td>\n",
       "    </tr>\n",
       "  </tbody>\n",
       "</table>\n",
       "</div>"
      ],
      "text/plain": [
       "  InvoiceNo StockCode\n",
       "0    536365    85123A\n",
       "1    536365     71053\n",
       "2    536365    84406B\n",
       "3    536365    84029G\n",
       "4    536365    84029E"
      ]
     },
     "execution_count": 107,
     "metadata": {},
     "output_type": "execute_result"
    }
   ],
   "source": [
    "data.head()"
   ]
  },
  {
   "cell_type": "markdown",
   "id": "5fca98b0-1ded-4d6d-859f-56faeed12275",
   "metadata": {
    "id": "5fca98b0-1ded-4d6d-859f-56faeed12275"
   },
   "source": [
    "Group the data by InvoiceNo and create a list of StockCode for each invoice"
   ]
  },
  {
   "cell_type": "code",
   "execution_count": 108,
   "id": "513403bd-cd14-425e-a016-238abdf18778",
   "metadata": {
    "colab": {
     "base_uri": "https://localhost:8080/"
    },
    "id": "513403bd-cd14-425e-a016-238abdf18778",
    "outputId": "137b5825-e5bc-4a82-bce1-27918ffd4a68"
   },
   "outputs": [],
   "source": [
    "# Your code here\n",
    "transactions = data.groupby('InvoiceNo')['StockCode'].apply(list).tolist()"
   ]
  },
  {
   "cell_type": "code",
   "execution_count": 109,
   "id": "29f38b0d58078b11",
   "metadata": {
    "ExecuteTime": {
     "end_time": "2023-11-05T15:03:57.099307Z",
     "start_time": "2023-11-05T15:03:57.096812Z"
    },
    "colab": {
     "base_uri": "https://localhost:8080/"
    },
    "collapsed": false,
    "id": "29f38b0d58078b11",
    "jupyter": {
     "outputs_hidden": false
    },
    "outputId": "32896ce2-c72f-4e40-b630-f2f528811e91"
   },
   "outputs": [
    {
     "data": {
      "text/plain": [
       "[['85123A', '71053', '84406B', '84029G', '84029E', '22752', '21730'],\n",
       " ['22633', '22632'],\n",
       " ['84879',\n",
       "  '22745',\n",
       "  '22748',\n",
       "  '22749',\n",
       "  '22310',\n",
       "  '84969',\n",
       "  '22623',\n",
       "  '22622',\n",
       "  '21754',\n",
       "  '21755',\n",
       "  '21777',\n",
       "  '48187'],\n",
       " ['22960', '22913', '22912', '22914']]"
      ]
     },
     "execution_count": 109,
     "metadata": {},
     "output_type": "execute_result"
    }
   ],
   "source": [
    "transactions[0:4]"
   ]
  },
  {
   "cell_type": "markdown",
   "id": "8e624423-0d6e-49b3-ad8e-024629728028",
   "metadata": {
    "id": "8e624423-0d6e-49b3-ad8e-024629728028"
   },
   "source": [
    "Using TransactionEncoder, convert the transactions into a dataset where each row represents a transaction and each column represents an item. The values will be True or False depending on whether the item is present in that specific transaction."
   ]
  },
  {
   "cell_type": "code",
   "execution_count": 110,
   "id": "d85de8e3b1f7ea4b",
   "metadata": {
    "ExecuteTime": {
     "end_time": "2023-11-05T00:02:42.360823Z",
     "start_time": "2023-11-05T00:02:42.313486Z"
    },
    "colab": {
     "base_uri": "https://localhost:8080/"
    },
    "collapsed": false,
    "id": "d85de8e3b1f7ea4b",
    "jupyter": {
     "outputs_hidden": false
    },
    "outputId": "63cb92c8-0805-4a97-88f5-56031002503b"
   },
   "outputs": [],
   "source": [
    "# Your code here\n",
    "te = TransactionEncoder()\n",
    "te_ary = te.fit(transactions).transform(transactions)\n",
    "transactions_df = pd.DataFrame(te_ary, columns=te.columns_)"
   ]
  },
  {
   "cell_type": "code",
   "execution_count": 111,
   "id": "f08424d7-ef4c-4a1e-a8f5-c0f4ed938bf0",
   "metadata": {
    "colab": {
     "base_uri": "https://localhost:8080/",
     "height": 290
    },
    "id": "f08424d7-ef4c-4a1e-a8f5-c0f4ed938bf0",
    "outputId": "1f461749-14ca-4ed1-f3f5-4145ebe5e7d3"
   },
   "outputs": [
    {
     "data": {
      "text/html": [
       "<div>\n",
       "<style scoped>\n",
       "    .dataframe tbody tr th:only-of-type {\n",
       "        vertical-align: middle;\n",
       "    }\n",
       "\n",
       "    .dataframe tbody tr th {\n",
       "        vertical-align: top;\n",
       "    }\n",
       "\n",
       "    .dataframe thead th {\n",
       "        text-align: right;\n",
       "    }\n",
       "</style>\n",
       "<table border=\"1\" class=\"dataframe\">\n",
       "  <thead>\n",
       "    <tr style=\"text-align: right;\">\n",
       "      <th></th>\n",
       "      <th>10002</th>\n",
       "      <th>10080</th>\n",
       "      <th>10120</th>\n",
       "      <th>10123C</th>\n",
       "      <th>10123G</th>\n",
       "      <th>10124A</th>\n",
       "      <th>10124G</th>\n",
       "      <th>10125</th>\n",
       "      <th>10133</th>\n",
       "      <th>10134</th>\n",
       "      <th>...</th>\n",
       "      <th>M</th>\n",
       "      <th>PADS</th>\n",
       "      <th>POST</th>\n",
       "      <th>S</th>\n",
       "      <th>gift_0001_10</th>\n",
       "      <th>gift_0001_20</th>\n",
       "      <th>gift_0001_30</th>\n",
       "      <th>gift_0001_40</th>\n",
       "      <th>gift_0001_50</th>\n",
       "      <th>m</th>\n",
       "    </tr>\n",
       "  </thead>\n",
       "  <tbody>\n",
       "    <tr>\n",
       "      <th>0</th>\n",
       "      <td>False</td>\n",
       "      <td>False</td>\n",
       "      <td>False</td>\n",
       "      <td>False</td>\n",
       "      <td>False</td>\n",
       "      <td>False</td>\n",
       "      <td>False</td>\n",
       "      <td>False</td>\n",
       "      <td>False</td>\n",
       "      <td>False</td>\n",
       "      <td>...</td>\n",
       "      <td>False</td>\n",
       "      <td>False</td>\n",
       "      <td>False</td>\n",
       "      <td>False</td>\n",
       "      <td>False</td>\n",
       "      <td>False</td>\n",
       "      <td>False</td>\n",
       "      <td>False</td>\n",
       "      <td>False</td>\n",
       "      <td>False</td>\n",
       "    </tr>\n",
       "    <tr>\n",
       "      <th>1</th>\n",
       "      <td>False</td>\n",
       "      <td>False</td>\n",
       "      <td>False</td>\n",
       "      <td>False</td>\n",
       "      <td>False</td>\n",
       "      <td>False</td>\n",
       "      <td>False</td>\n",
       "      <td>False</td>\n",
       "      <td>False</td>\n",
       "      <td>False</td>\n",
       "      <td>...</td>\n",
       "      <td>False</td>\n",
       "      <td>False</td>\n",
       "      <td>False</td>\n",
       "      <td>False</td>\n",
       "      <td>False</td>\n",
       "      <td>False</td>\n",
       "      <td>False</td>\n",
       "      <td>False</td>\n",
       "      <td>False</td>\n",
       "      <td>False</td>\n",
       "    </tr>\n",
       "    <tr>\n",
       "      <th>2</th>\n",
       "      <td>False</td>\n",
       "      <td>False</td>\n",
       "      <td>False</td>\n",
       "      <td>False</td>\n",
       "      <td>False</td>\n",
       "      <td>False</td>\n",
       "      <td>False</td>\n",
       "      <td>False</td>\n",
       "      <td>False</td>\n",
       "      <td>False</td>\n",
       "      <td>...</td>\n",
       "      <td>False</td>\n",
       "      <td>False</td>\n",
       "      <td>False</td>\n",
       "      <td>False</td>\n",
       "      <td>False</td>\n",
       "      <td>False</td>\n",
       "      <td>False</td>\n",
       "      <td>False</td>\n",
       "      <td>False</td>\n",
       "      <td>False</td>\n",
       "    </tr>\n",
       "    <tr>\n",
       "      <th>3</th>\n",
       "      <td>False</td>\n",
       "      <td>False</td>\n",
       "      <td>False</td>\n",
       "      <td>False</td>\n",
       "      <td>False</td>\n",
       "      <td>False</td>\n",
       "      <td>False</td>\n",
       "      <td>False</td>\n",
       "      <td>False</td>\n",
       "      <td>False</td>\n",
       "      <td>...</td>\n",
       "      <td>False</td>\n",
       "      <td>False</td>\n",
       "      <td>False</td>\n",
       "      <td>False</td>\n",
       "      <td>False</td>\n",
       "      <td>False</td>\n",
       "      <td>False</td>\n",
       "      <td>False</td>\n",
       "      <td>False</td>\n",
       "      <td>False</td>\n",
       "    </tr>\n",
       "    <tr>\n",
       "      <th>4</th>\n",
       "      <td>False</td>\n",
       "      <td>False</td>\n",
       "      <td>False</td>\n",
       "      <td>False</td>\n",
       "      <td>False</td>\n",
       "      <td>False</td>\n",
       "      <td>False</td>\n",
       "      <td>False</td>\n",
       "      <td>False</td>\n",
       "      <td>False</td>\n",
       "      <td>...</td>\n",
       "      <td>False</td>\n",
       "      <td>False</td>\n",
       "      <td>False</td>\n",
       "      <td>False</td>\n",
       "      <td>False</td>\n",
       "      <td>False</td>\n",
       "      <td>False</td>\n",
       "      <td>False</td>\n",
       "      <td>False</td>\n",
       "      <td>False</td>\n",
       "    </tr>\n",
       "  </tbody>\n",
       "</table>\n",
       "<p>5 rows × 4070 columns</p>\n",
       "</div>"
      ],
      "text/plain": [
       "   10002  10080  10120  10123C  10123G  10124A  10124G  10125  10133  10134  \\\n",
       "0  False  False  False   False   False   False   False  False  False  False   \n",
       "1  False  False  False   False   False   False   False  False  False  False   \n",
       "2  False  False  False   False   False   False   False  False  False  False   \n",
       "3  False  False  False   False   False   False   False  False  False  False   \n",
       "4  False  False  False   False   False   False   False  False  False  False   \n",
       "\n",
       "   ...      M   PADS   POST      S  gift_0001_10  gift_0001_20  gift_0001_30  \\\n",
       "0  ...  False  False  False  False         False         False         False   \n",
       "1  ...  False  False  False  False         False         False         False   \n",
       "2  ...  False  False  False  False         False         False         False   \n",
       "3  ...  False  False  False  False         False         False         False   \n",
       "4  ...  False  False  False  False         False         False         False   \n",
       "\n",
       "   gift_0001_40  gift_0001_50      m  \n",
       "0         False         False  False  \n",
       "1         False         False  False  \n",
       "2         False         False  False  \n",
       "3         False         False  False  \n",
       "4         False         False  False  \n",
       "\n",
       "[5 rows x 4070 columns]"
      ]
     },
     "execution_count": 111,
     "metadata": {},
     "output_type": "execute_result"
    }
   ],
   "source": [
    "transactions_df.head()"
   ]
  },
  {
   "cell_type": "markdown",
   "id": "be776fc8-3ead-49cc-9d2a-573fa345749e",
   "metadata": {
    "id": "be776fc8-3ead-49cc-9d2a-573fa345749e"
   },
   "source": [
    "## Use Apriori to get the frequent itemsets and inspect the results\n",
    "\n",
    "Use apriori to find the frequent_itemsets for `min_sup` = `1%`"
   ]
  },
  {
   "cell_type": "code",
   "execution_count": 112,
   "id": "b194b03ca622ed71",
   "metadata": {
    "ExecuteTime": {
     "end_time": "2023-11-05T00:21:10.879170Z",
     "start_time": "2023-11-05T00:20:41.749376Z"
    },
    "colab": {
     "base_uri": "https://localhost:8080/",
     "height": 158
    },
    "collapsed": false,
    "id": "b194b03ca622ed71",
    "jupyter": {
     "outputs_hidden": false
    },
    "outputId": "f04ec971-0636-43de-c599-045bedb64c9b"
   },
   "outputs": [],
   "source": [
    "# Your code here\n",
    "frequent_itemsets = apriori(transactions_df, min_support=0.01)"
   ]
  },
  {
   "cell_type": "code",
   "execution_count": 64,
   "id": "QQ11v4n7GCoa",
   "metadata": {
    "id": "QQ11v4n7GCoa"
   },
   "outputs": [
    {
     "data": {
      "text/plain": [
       "(1087, 2)"
      ]
     },
     "execution_count": 64,
     "metadata": {},
     "output_type": "execute_result"
    }
   ],
   "source": [
    "frequent_itemsets.shape"
   ]
  },
  {
   "cell_type": "code",
   "execution_count": 65,
   "id": "903c3dca-2223-4deb-b435-c3262395cb3f",
   "metadata": {
    "id": "903c3dca-2223-4deb-b435-c3262395cb3f",
    "outputId": "0d098115-8dec-4ce8-aab5-aeef0c7b7eaf"
   },
   "outputs": [
    {
     "data": {
      "text/html": [
       "<div>\n",
       "<style scoped>\n",
       "    .dataframe tbody tr th:only-of-type {\n",
       "        vertical-align: middle;\n",
       "    }\n",
       "\n",
       "    .dataframe tbody tr th {\n",
       "        vertical-align: top;\n",
       "    }\n",
       "\n",
       "    .dataframe thead th {\n",
       "        text-align: right;\n",
       "    }\n",
       "</style>\n",
       "<table border=\"1\" class=\"dataframe\">\n",
       "  <thead>\n",
       "    <tr style=\"text-align: right;\">\n",
       "      <th></th>\n",
       "      <th>support</th>\n",
       "      <th>itemsets</th>\n",
       "    </tr>\n",
       "  </thead>\n",
       "  <tbody>\n",
       "    <tr>\n",
       "      <th>0</th>\n",
       "      <td>0.020193</td>\n",
       "      <td>(14)</td>\n",
       "    </tr>\n",
       "    <tr>\n",
       "      <th>1</th>\n",
       "      <td>0.012587</td>\n",
       "      <td>(20)</td>\n",
       "    </tr>\n",
       "    <tr>\n",
       "      <th>2</th>\n",
       "      <td>0.017876</td>\n",
       "      <td>(21)</td>\n",
       "    </tr>\n",
       "    <tr>\n",
       "      <th>3</th>\n",
       "      <td>0.011236</td>\n",
       "      <td>(75)</td>\n",
       "    </tr>\n",
       "    <tr>\n",
       "      <th>4</th>\n",
       "      <td>0.012510</td>\n",
       "      <td>(147)</td>\n",
       "    </tr>\n",
       "  </tbody>\n",
       "</table>\n",
       "</div>"
      ],
      "text/plain": [
       "    support itemsets\n",
       "0  0.020193     (14)\n",
       "1  0.012587     (20)\n",
       "2  0.017876     (21)\n",
       "3  0.011236     (75)\n",
       "4  0.012510    (147)"
      ]
     },
     "execution_count": 65,
     "metadata": {},
     "output_type": "execute_result"
    }
   ],
   "source": [
    "frequent_itemsets.head()"
   ]
  },
  {
   "cell_type": "markdown",
   "id": "ebc6ee4b-b789-4e6b-aa6f-0fb32f6cdc4a",
   "metadata": {
    "id": "ebc6ee4b-b789-4e6b-aa6f-0fb32f6cdc4a"
   },
   "source": [
    "Add an additional column called `items_count` to the dataframe which represents the number of items in the itemset."
   ]
  },
  {
   "cell_type": "code",
   "execution_count": 67,
   "id": "5b6544d4-1968-4dc0-a284-4d0170304cf5",
   "metadata": {
    "id": "5b6544d4-1968-4dc0-a284-4d0170304cf5"
   },
   "outputs": [],
   "source": [
    "# Your code here\n",
    "frequent_itemsets['items_count'] = frequent_itemsets['itemsets'].apply(lambda x: len(x))"
   ]
  },
  {
   "cell_type": "code",
   "execution_count": 96,
   "id": "c203f9e6-5203-4801-ab0b-b983125e623a",
   "metadata": {
    "id": "c203f9e6-5203-4801-ab0b-b983125e623a",
    "outputId": "ae1924ff-9690-43c1-8020-3ac26fbb264c"
   },
   "outputs": [
    {
     "data": {
      "text/html": [
       "<div>\n",
       "<style scoped>\n",
       "    .dataframe tbody tr th:only-of-type {\n",
       "        vertical-align: middle;\n",
       "    }\n",
       "\n",
       "    .dataframe tbody tr th {\n",
       "        vertical-align: top;\n",
       "    }\n",
       "\n",
       "    .dataframe thead th {\n",
       "        text-align: right;\n",
       "    }\n",
       "</style>\n",
       "<table border=\"1\" class=\"dataframe\">\n",
       "  <thead>\n",
       "    <tr style=\"text-align: right;\">\n",
       "      <th></th>\n",
       "      <th>support</th>\n",
       "      <th>itemsets</th>\n",
       "      <th>items_count</th>\n",
       "    </tr>\n",
       "  </thead>\n",
       "  <tbody>\n",
       "    <tr>\n",
       "      <th>0</th>\n",
       "      <td>0.020193</td>\n",
       "      <td>(14)</td>\n",
       "      <td>1</td>\n",
       "    </tr>\n",
       "    <tr>\n",
       "      <th>1</th>\n",
       "      <td>0.012587</td>\n",
       "      <td>(20)</td>\n",
       "      <td>1</td>\n",
       "    </tr>\n",
       "    <tr>\n",
       "      <th>2</th>\n",
       "      <td>0.017876</td>\n",
       "      <td>(21)</td>\n",
       "      <td>1</td>\n",
       "    </tr>\n",
       "    <tr>\n",
       "      <th>3</th>\n",
       "      <td>0.011236</td>\n",
       "      <td>(75)</td>\n",
       "      <td>1</td>\n",
       "    </tr>\n",
       "    <tr>\n",
       "      <th>4</th>\n",
       "      <td>0.012510</td>\n",
       "      <td>(147)</td>\n",
       "      <td>1</td>\n",
       "    </tr>\n",
       "  </tbody>\n",
       "</table>\n",
       "</div>"
      ],
      "text/plain": [
       "    support itemsets  items_count\n",
       "0  0.020193     (14)            1\n",
       "1  0.012587     (20)            1\n",
       "2  0.017876     (21)            1\n",
       "3  0.011236     (75)            1\n",
       "4  0.012510    (147)            1"
      ]
     },
     "execution_count": 96,
     "metadata": {},
     "output_type": "execute_result"
    }
   ],
   "source": [
    "frequent_itemsets.head()"
   ]
  },
  {
   "cell_type": "markdown",
   "id": "aaeaebe4-e299-48b8-98ee-09c8fb7635a9",
   "metadata": {
    "id": "aaeaebe4-e299-48b8-98ee-09c8fb7635a9"
   },
   "source": [
    "Display the various itemsets generated sorted (descending) by the items_count."
   ]
  },
  {
   "cell_type": "code",
   "execution_count": 97,
   "id": "a6d60b10-2318-4d62-b4f9-f1c37d0ccd30",
   "metadata": {
    "id": "a6d60b10-2318-4d62-b4f9-f1c37d0ccd30",
    "outputId": "472644d7-f551-4415-a1d1-17d3e6fc0f8b"
   },
   "outputs": [
    {
     "data": {
      "text/html": [
       "<div>\n",
       "<style scoped>\n",
       "    .dataframe tbody tr th:only-of-type {\n",
       "        vertical-align: middle;\n",
       "    }\n",
       "\n",
       "    .dataframe tbody tr th {\n",
       "        vertical-align: top;\n",
       "    }\n",
       "\n",
       "    .dataframe thead th {\n",
       "        text-align: right;\n",
       "    }\n",
       "</style>\n",
       "<table border=\"1\" class=\"dataframe\">\n",
       "  <thead>\n",
       "    <tr style=\"text-align: right;\">\n",
       "      <th></th>\n",
       "      <th>support</th>\n",
       "      <th>itemsets</th>\n",
       "      <th>items_count</th>\n",
       "    </tr>\n",
       "  </thead>\n",
       "  <tbody>\n",
       "    <tr>\n",
       "      <th>1086</th>\n",
       "      <td>0.011699</td>\n",
       "      <td>(1608, 1609, 1610, 1348)</td>\n",
       "      <td>4</td>\n",
       "    </tr>\n",
       "    <tr>\n",
       "      <th>1085</th>\n",
       "      <td>0.010386</td>\n",
       "      <td>(944, 1336, 3515, 1317)</td>\n",
       "      <td>4</td>\n",
       "    </tr>\n",
       "    <tr>\n",
       "      <th>1084</th>\n",
       "      <td>0.010077</td>\n",
       "      <td>(177, 178, 179, 1290)</td>\n",
       "      <td>4</td>\n",
       "    </tr>\n",
       "    <tr>\n",
       "      <th>1032</th>\n",
       "      <td>0.012548</td>\n",
       "      <td>(1315, 180, 183)</td>\n",
       "      <td>3</td>\n",
       "    </tr>\n",
       "    <tr>\n",
       "      <th>1024</th>\n",
       "      <td>0.011042</td>\n",
       "      <td>(1315, 180, 181)</td>\n",
       "      <td>3</td>\n",
       "    </tr>\n",
       "  </tbody>\n",
       "</table>\n",
       "</div>"
      ],
      "text/plain": [
       "       support                  itemsets  items_count\n",
       "1086  0.011699  (1608, 1609, 1610, 1348)            4\n",
       "1085  0.010386   (944, 1336, 3515, 1317)            4\n",
       "1084  0.010077     (177, 178, 179, 1290)            4\n",
       "1032  0.012548          (1315, 180, 183)            3\n",
       "1024  0.011042          (1315, 180, 181)            3"
      ]
     },
     "execution_count": 97,
     "metadata": {},
     "output_type": "execute_result"
    }
   ],
   "source": [
    "# Your code here\n",
    "frequent_itemsets.sort_values('items_count', ascending=False).head()"
   ]
  },
  {
   "cell_type": "markdown",
   "id": "05f25be1-6425-4227-babd-8e71b64d3ba3",
   "metadata": {
    "id": "05f25be1-6425-4227-babd-8e71b64d3ba3"
   },
   "source": [
    "Show how many itemsets exist by items_count"
   ]
  },
  {
   "cell_type": "code",
   "execution_count": 98,
   "id": "7f1b2070-9d81-4e15-ae77-508001760684",
   "metadata": {
    "ExecuteTime": {
     "end_time": "2023-11-05T00:30:43.110212Z",
     "start_time": "2023-11-05T00:30:43.097950Z"
    },
    "collapsed": false,
    "id": "7f1b2070-9d81-4e15-ae77-508001760684",
    "jupyter": {
     "outputs_hidden": false
    }
   },
   "outputs": [
    {
     "data": {
      "text/plain": [
       "1087"
      ]
     },
     "execution_count": 98,
     "metadata": {},
     "output_type": "execute_result"
    }
   ],
   "source": [
    "# Your code here\n",
    "frequent_itemsets['items_count'].count()"
   ]
  },
  {
   "cell_type": "markdown",
   "id": "3df7a8be-b4eb-4218-ba16-2e33b752d3aa",
   "metadata": {
    "id": "3df7a8be-b4eb-4218-ba16-2e33b752d3aa"
   },
   "source": [
    "## Generate association rules\n",
    "Generate all association rules using the `lift` metric with a minimum value of 2"
   ]
  },
  {
   "cell_type": "code",
   "execution_count": 99,
   "id": "18d707fe73c76e4b",
   "metadata": {
    "ExecuteTime": {
     "end_time": "2023-11-05T03:01:01.829353Z",
     "start_time": "2023-11-05T03:01:01.811895Z"
    },
    "collapsed": false,
    "id": "18d707fe73c76e4b",
    "jupyter": {
     "outputs_hidden": false
    }
   },
   "outputs": [],
   "source": [
    "# Your code here\n",
    "rules = association_rules(frequent_itemsets, metric=\"lift\", min_threshold=2)"
   ]
  },
  {
   "cell_type": "code",
   "execution_count": 100,
   "id": "b0a38f30-22d8-4579-bc2c-ead59adeb9c8",
   "metadata": {
    "id": "b0a38f30-22d8-4579-bc2c-ead59adeb9c8",
    "outputId": "c95a2087-840f-4b0a-af2c-4a8f4f348b2f"
   },
   "outputs": [
    {
     "data": {
      "text/plain": [
       "(1338, 10)"
      ]
     },
     "execution_count": 100,
     "metadata": {},
     "output_type": "execute_result"
    }
   ],
   "source": [
    "rules.shape"
   ]
  },
  {
   "cell_type": "code",
   "execution_count": 101,
   "id": "cf22bc7aca2497c4",
   "metadata": {
    "ExecuteTime": {
     "end_time": "2023-11-05T03:01:02.026007Z",
     "start_time": "2023-11-05T03:01:02.023513Z"
    },
    "collapsed": false,
    "id": "cf22bc7aca2497c4",
    "jupyter": {
     "outputs_hidden": false
    },
    "outputId": "fb376d8a-cf71-4b92-c64d-16b0e82ef19f"
   },
   "outputs": [
    {
     "data": {
      "text/html": [
       "<div>\n",
       "<style scoped>\n",
       "    .dataframe tbody tr th:only-of-type {\n",
       "        vertical-align: middle;\n",
       "    }\n",
       "\n",
       "    .dataframe tbody tr th {\n",
       "        vertical-align: top;\n",
       "    }\n",
       "\n",
       "    .dataframe thead th {\n",
       "        text-align: right;\n",
       "    }\n",
       "</style>\n",
       "<table border=\"1\" class=\"dataframe\">\n",
       "  <thead>\n",
       "    <tr style=\"text-align: right;\">\n",
       "      <th></th>\n",
       "      <th>antecedents</th>\n",
       "      <th>consequents</th>\n",
       "      <th>antecedent support</th>\n",
       "      <th>consequent support</th>\n",
       "      <th>support</th>\n",
       "      <th>confidence</th>\n",
       "      <th>lift</th>\n",
       "      <th>leverage</th>\n",
       "      <th>conviction</th>\n",
       "      <th>zhangs_metric</th>\n",
       "    </tr>\n",
       "  </thead>\n",
       "  <tbody>\n",
       "    <tr>\n",
       "      <th>0</th>\n",
       "      <td>(171)</td>\n",
       "      <td>(172)</td>\n",
       "      <td>0.020541</td>\n",
       "      <td>0.033668</td>\n",
       "      <td>0.011158</td>\n",
       "      <td>0.543233</td>\n",
       "      <td>16.135019</td>\n",
       "      <td>0.010467</td>\n",
       "      <td>2.115591</td>\n",
       "      <td>0.957695</td>\n",
       "    </tr>\n",
       "    <tr>\n",
       "      <th>1</th>\n",
       "      <td>(172)</td>\n",
       "      <td>(171)</td>\n",
       "      <td>0.033668</td>\n",
       "      <td>0.020541</td>\n",
       "      <td>0.011158</td>\n",
       "      <td>0.331422</td>\n",
       "      <td>16.135019</td>\n",
       "      <td>0.010467</td>\n",
       "      <td>1.464989</td>\n",
       "      <td>0.970705</td>\n",
       "    </tr>\n",
       "    <tr>\n",
       "      <th>2</th>\n",
       "      <td>(944)</td>\n",
       "      <td>(171)</td>\n",
       "      <td>0.046371</td>\n",
       "      <td>0.020541</td>\n",
       "      <td>0.011506</td>\n",
       "      <td>0.248127</td>\n",
       "      <td>12.079846</td>\n",
       "      <td>0.010553</td>\n",
       "      <td>1.302692</td>\n",
       "      <td>0.961818</td>\n",
       "    </tr>\n",
       "    <tr>\n",
       "      <th>3</th>\n",
       "      <td>(171)</td>\n",
       "      <td>(944)</td>\n",
       "      <td>0.020541</td>\n",
       "      <td>0.046371</td>\n",
       "      <td>0.011506</td>\n",
       "      <td>0.560150</td>\n",
       "      <td>12.079846</td>\n",
       "      <td>0.010553</td>\n",
       "      <td>2.168080</td>\n",
       "      <td>0.936453</td>\n",
       "    </tr>\n",
       "    <tr>\n",
       "      <th>4</th>\n",
       "      <td>(171)</td>\n",
       "      <td>(1317)</td>\n",
       "      <td>0.020541</td>\n",
       "      <td>0.047529</td>\n",
       "      <td>0.010888</td>\n",
       "      <td>0.530075</td>\n",
       "      <td>11.152679</td>\n",
       "      <td>0.009912</td>\n",
       "      <td>2.026858</td>\n",
       "      <td>0.929426</td>\n",
       "    </tr>\n",
       "  </tbody>\n",
       "</table>\n",
       "</div>"
      ],
      "text/plain": [
       "  antecedents consequents  antecedent support  consequent support   support  \\\n",
       "0       (171)       (172)            0.020541            0.033668  0.011158   \n",
       "1       (172)       (171)            0.033668            0.020541  0.011158   \n",
       "2       (944)       (171)            0.046371            0.020541  0.011506   \n",
       "3       (171)       (944)            0.020541            0.046371  0.011506   \n",
       "4       (171)      (1317)            0.020541            0.047529  0.010888   \n",
       "\n",
       "   confidence       lift  leverage  conviction  zhangs_metric  \n",
       "0    0.543233  16.135019  0.010467    2.115591       0.957695  \n",
       "1    0.331422  16.135019  0.010467    1.464989       0.970705  \n",
       "2    0.248127  12.079846  0.010553    1.302692       0.961818  \n",
       "3    0.560150  12.079846  0.010553    2.168080       0.936453  \n",
       "4    0.530075  11.152679  0.009912    2.026858       0.929426  "
      ]
     },
     "execution_count": 101,
     "metadata": {},
     "output_type": "execute_result"
    }
   ],
   "source": [
    "rules.head()"
   ]
  },
  {
   "cell_type": "code",
   "execution_count": 102,
   "id": "b13a0894be790c60",
   "metadata": {
    "ExecuteTime": {
     "end_time": "2023-11-05T02:45:04.976307Z",
     "start_time": "2023-11-05T02:45:04.966974Z"
    },
    "collapsed": false,
    "id": "b13a0894be790c60",
    "jupyter": {
     "outputs_hidden": false
    },
    "outputId": "c503c7ff-1a0e-4f57-a19b-12802b6ce434"
   },
   "outputs": [
    {
     "data": {
      "text/html": [
       "<div>\n",
       "<style scoped>\n",
       "    .dataframe tbody tr th:only-of-type {\n",
       "        vertical-align: middle;\n",
       "    }\n",
       "\n",
       "    .dataframe tbody tr th {\n",
       "        vertical-align: top;\n",
       "    }\n",
       "\n",
       "    .dataframe thead th {\n",
       "        text-align: right;\n",
       "    }\n",
       "</style>\n",
       "<table border=\"1\" class=\"dataframe\">\n",
       "  <thead>\n",
       "    <tr style=\"text-align: right;\">\n",
       "      <th></th>\n",
       "      <th>InvoiceNo</th>\n",
       "      <th>Description</th>\n",
       "      <th>Quantity</th>\n",
       "      <th>InvoiceDate</th>\n",
       "      <th>UnitPrice</th>\n",
       "      <th>CustomerID</th>\n",
       "      <th>Country</th>\n",
       "    </tr>\n",
       "    <tr>\n",
       "      <th>StockCode</th>\n",
       "      <th></th>\n",
       "      <th></th>\n",
       "      <th></th>\n",
       "      <th></th>\n",
       "      <th></th>\n",
       "      <th></th>\n",
       "      <th></th>\n",
       "    </tr>\n",
       "  </thead>\n",
       "  <tbody>\n",
       "    <tr>\n",
       "      <th>(0, 85123A)</th>\n",
       "      <td>536365</td>\n",
       "      <td>WHITE HANGING HEART T-LIGHT HOLDER</td>\n",
       "      <td>6</td>\n",
       "      <td>2010-12-01 08:26:00</td>\n",
       "      <td>2.55</td>\n",
       "      <td>17850.0</td>\n",
       "      <td>United Kingdom</td>\n",
       "    </tr>\n",
       "    <tr>\n",
       "      <th>(1, 71053)</th>\n",
       "      <td>536365</td>\n",
       "      <td>WHITE METAL LANTERN</td>\n",
       "      <td>6</td>\n",
       "      <td>2010-12-01 08:26:00</td>\n",
       "      <td>3.39</td>\n",
       "      <td>17850.0</td>\n",
       "      <td>United Kingdom</td>\n",
       "    </tr>\n",
       "    <tr>\n",
       "      <th>(2, 84406B)</th>\n",
       "      <td>536365</td>\n",
       "      <td>CREAM CUPID HEARTS COAT HANGER</td>\n",
       "      <td>8</td>\n",
       "      <td>2010-12-01 08:26:00</td>\n",
       "      <td>2.75</td>\n",
       "      <td>17850.0</td>\n",
       "      <td>United Kingdom</td>\n",
       "    </tr>\n",
       "    <tr>\n",
       "      <th>(3, 84029G)</th>\n",
       "      <td>536365</td>\n",
       "      <td>KNITTED UNION FLAG HOT WATER BOTTLE</td>\n",
       "      <td>6</td>\n",
       "      <td>2010-12-01 08:26:00</td>\n",
       "      <td>3.39</td>\n",
       "      <td>17850.0</td>\n",
       "      <td>United Kingdom</td>\n",
       "    </tr>\n",
       "    <tr>\n",
       "      <th>(4, 84029E)</th>\n",
       "      <td>536365</td>\n",
       "      <td>RED WOOLLY HOTTIE WHITE HEART.</td>\n",
       "      <td>6</td>\n",
       "      <td>2010-12-01 08:26:00</td>\n",
       "      <td>3.39</td>\n",
       "      <td>17850.0</td>\n",
       "      <td>United Kingdom</td>\n",
       "    </tr>\n",
       "  </tbody>\n",
       "</table>\n",
       "</div>"
      ],
      "text/plain": [
       "            InvoiceNo                          Description  Quantity  \\\n",
       "StockCode                                                              \n",
       "(0, 85123A)    536365   WHITE HANGING HEART T-LIGHT HOLDER         6   \n",
       "(1, 71053)     536365                  WHITE METAL LANTERN         6   \n",
       "(2, 84406B)    536365       CREAM CUPID HEARTS COAT HANGER         8   \n",
       "(3, 84029G)    536365  KNITTED UNION FLAG HOT WATER BOTTLE         6   \n",
       "(4, 84029E)    536365       RED WOOLLY HOTTIE WHITE HEART.         6   \n",
       "\n",
       "                     InvoiceDate  UnitPrice  CustomerID         Country  \n",
       "StockCode                                                                \n",
       "(0, 85123A)  2010-12-01 08:26:00       2.55     17850.0  United Kingdom  \n",
       "(1, 71053)   2010-12-01 08:26:00       3.39     17850.0  United Kingdom  \n",
       "(2, 84406B)  2010-12-01 08:26:00       2.75     17850.0  United Kingdom  \n",
       "(3, 84029G)  2010-12-01 08:26:00       3.39     17850.0  United Kingdom  \n",
       "(4, 84029E)  2010-12-01 08:26:00       3.39     17850.0  United Kingdom  "
      ]
     },
     "execution_count": 102,
     "metadata": {},
     "output_type": "execute_result"
    }
   ],
   "source": [
    "invoices.head()"
   ]
  },
  {
   "cell_type": "markdown",
   "id": "47a4f686-d63c-48ff-97d5-fae0a6e9a4e8",
   "metadata": {
    "id": "47a4f686-d63c-48ff-97d5-fae0a6e9a4e8"
   },
   "source": [
    "Add the names of the items back in the data frame as save all rules in a csv file"
   ]
  },
  {
   "cell_type": "code",
   "execution_count": 113,
   "id": "57be2a20c41a27b8",
   "metadata": {
    "collapsed": false,
    "id": "57be2a20c41a27b8",
    "jupyter": {
     "outputs_hidden": false
    }
   },
   "outputs": [],
   "source": [
    "# Your code here"
   ]
  },
  {
   "cell_type": "code",
   "execution_count": 114,
   "id": "cf9945a0-4591-41a4-9b40-6b1ce9bcd5ce",
   "metadata": {},
   "outputs": [
    {
     "data": {
      "text/html": [
       "<div>\n",
       "<style scoped>\n",
       "    .dataframe tbody tr th:only-of-type {\n",
       "        vertical-align: middle;\n",
       "    }\n",
       "\n",
       "    .dataframe tbody tr th {\n",
       "        vertical-align: top;\n",
       "    }\n",
       "\n",
       "    .dataframe thead th {\n",
       "        text-align: right;\n",
       "    }\n",
       "</style>\n",
       "<table border=\"1\" class=\"dataframe\">\n",
       "  <thead>\n",
       "    <tr style=\"text-align: right;\">\n",
       "      <th></th>\n",
       "      <th>antecedents</th>\n",
       "      <th>consequents</th>\n",
       "      <th>antecedent support</th>\n",
       "      <th>consequent support</th>\n",
       "      <th>support</th>\n",
       "      <th>confidence</th>\n",
       "      <th>lift</th>\n",
       "      <th>leverage</th>\n",
       "      <th>conviction</th>\n",
       "      <th>zhangs_metric</th>\n",
       "    </tr>\n",
       "  </thead>\n",
       "  <tbody>\n",
       "    <tr>\n",
       "      <th>0</th>\n",
       "      <td>(171)</td>\n",
       "      <td>(172)</td>\n",
       "      <td>0.020541</td>\n",
       "      <td>0.033668</td>\n",
       "      <td>0.011158</td>\n",
       "      <td>0.543233</td>\n",
       "      <td>16.135019</td>\n",
       "      <td>0.010467</td>\n",
       "      <td>2.115591</td>\n",
       "      <td>0.957695</td>\n",
       "    </tr>\n",
       "    <tr>\n",
       "      <th>1</th>\n",
       "      <td>(172)</td>\n",
       "      <td>(171)</td>\n",
       "      <td>0.033668</td>\n",
       "      <td>0.020541</td>\n",
       "      <td>0.011158</td>\n",
       "      <td>0.331422</td>\n",
       "      <td>16.135019</td>\n",
       "      <td>0.010467</td>\n",
       "      <td>1.464989</td>\n",
       "      <td>0.970705</td>\n",
       "    </tr>\n",
       "    <tr>\n",
       "      <th>2</th>\n",
       "      <td>(944)</td>\n",
       "      <td>(171)</td>\n",
       "      <td>0.046371</td>\n",
       "      <td>0.020541</td>\n",
       "      <td>0.011506</td>\n",
       "      <td>0.248127</td>\n",
       "      <td>12.079846</td>\n",
       "      <td>0.010553</td>\n",
       "      <td>1.302692</td>\n",
       "      <td>0.961818</td>\n",
       "    </tr>\n",
       "    <tr>\n",
       "      <th>3</th>\n",
       "      <td>(171)</td>\n",
       "      <td>(944)</td>\n",
       "      <td>0.020541</td>\n",
       "      <td>0.046371</td>\n",
       "      <td>0.011506</td>\n",
       "      <td>0.560150</td>\n",
       "      <td>12.079846</td>\n",
       "      <td>0.010553</td>\n",
       "      <td>2.168080</td>\n",
       "      <td>0.936453</td>\n",
       "    </tr>\n",
       "    <tr>\n",
       "      <th>4</th>\n",
       "      <td>(171)</td>\n",
       "      <td>(1317)</td>\n",
       "      <td>0.020541</td>\n",
       "      <td>0.047529</td>\n",
       "      <td>0.010888</td>\n",
       "      <td>0.530075</td>\n",
       "      <td>11.152679</td>\n",
       "      <td>0.009912</td>\n",
       "      <td>2.026858</td>\n",
       "      <td>0.929426</td>\n",
       "    </tr>\n",
       "  </tbody>\n",
       "</table>\n",
       "</div>"
      ],
      "text/plain": [
       "  antecedents consequents  antecedent support  consequent support   support  \\\n",
       "0       (171)       (172)            0.020541            0.033668  0.011158   \n",
       "1       (172)       (171)            0.033668            0.020541  0.011158   \n",
       "2       (944)       (171)            0.046371            0.020541  0.011506   \n",
       "3       (171)       (944)            0.020541            0.046371  0.011506   \n",
       "4       (171)      (1317)            0.020541            0.047529  0.010888   \n",
       "\n",
       "   confidence       lift  leverage  conviction  zhangs_metric  \n",
       "0    0.543233  16.135019  0.010467    2.115591       0.957695  \n",
       "1    0.331422  16.135019  0.010467    1.464989       0.970705  \n",
       "2    0.248127  12.079846  0.010553    1.302692       0.961818  \n",
       "3    0.560150  12.079846  0.010553    2.168080       0.936453  \n",
       "4    0.530075  11.152679  0.009912    2.026858       0.929426  "
      ]
     },
     "execution_count": 114,
     "metadata": {},
     "output_type": "execute_result"
    }
   ],
   "source": [
    "rules.head()"
   ]
  },
  {
   "cell_type": "code",
   "execution_count": 115,
   "id": "dd91f342-a598-4f15-9e43-a1fca0097944",
   "metadata": {
    "id": "dd91f342-a598-4f15-9e43-a1fca0097944",
    "outputId": "e8e04f14-2b49-4f1d-a658-d95a1b2c7cd1"
   },
   "outputs": [
    {
     "data": {
      "text/html": [
       "<div>\n",
       "<style scoped>\n",
       "    .dataframe tbody tr th:only-of-type {\n",
       "        vertical-align: middle;\n",
       "    }\n",
       "\n",
       "    .dataframe tbody tr th {\n",
       "        vertical-align: top;\n",
       "    }\n",
       "\n",
       "    .dataframe thead th {\n",
       "        text-align: right;\n",
       "    }\n",
       "</style>\n",
       "<table border=\"1\" class=\"dataframe\">\n",
       "  <thead>\n",
       "    <tr style=\"text-align: right;\">\n",
       "      <th></th>\n",
       "      <th>antecedents</th>\n",
       "      <th>consequents</th>\n",
       "      <th>antecedent support</th>\n",
       "      <th>consequent support</th>\n",
       "      <th>support</th>\n",
       "      <th>confidence</th>\n",
       "      <th>lift</th>\n",
       "      <th>leverage</th>\n",
       "      <th>conviction</th>\n",
       "      <th>zhangs_metric</th>\n",
       "    </tr>\n",
       "  </thead>\n",
       "  <tbody>\n",
       "    <tr>\n",
       "      <th>0</th>\n",
       "      <td>(171)</td>\n",
       "      <td>(172)</td>\n",
       "      <td>0.020541</td>\n",
       "      <td>0.033668</td>\n",
       "      <td>0.011158</td>\n",
       "      <td>0.543233</td>\n",
       "      <td>16.135019</td>\n",
       "      <td>0.010467</td>\n",
       "      <td>2.115591</td>\n",
       "      <td>0.957695</td>\n",
       "    </tr>\n",
       "    <tr>\n",
       "      <th>1</th>\n",
       "      <td>(172)</td>\n",
       "      <td>(171)</td>\n",
       "      <td>0.033668</td>\n",
       "      <td>0.020541</td>\n",
       "      <td>0.011158</td>\n",
       "      <td>0.331422</td>\n",
       "      <td>16.135019</td>\n",
       "      <td>0.010467</td>\n",
       "      <td>1.464989</td>\n",
       "      <td>0.970705</td>\n",
       "    </tr>\n",
       "    <tr>\n",
       "      <th>2</th>\n",
       "      <td>(944)</td>\n",
       "      <td>(171)</td>\n",
       "      <td>0.046371</td>\n",
       "      <td>0.020541</td>\n",
       "      <td>0.011506</td>\n",
       "      <td>0.248127</td>\n",
       "      <td>12.079846</td>\n",
       "      <td>0.010553</td>\n",
       "      <td>1.302692</td>\n",
       "      <td>0.961818</td>\n",
       "    </tr>\n",
       "    <tr>\n",
       "      <th>3</th>\n",
       "      <td>(171)</td>\n",
       "      <td>(944)</td>\n",
       "      <td>0.020541</td>\n",
       "      <td>0.046371</td>\n",
       "      <td>0.011506</td>\n",
       "      <td>0.560150</td>\n",
       "      <td>12.079846</td>\n",
       "      <td>0.010553</td>\n",
       "      <td>2.168080</td>\n",
       "      <td>0.936453</td>\n",
       "    </tr>\n",
       "    <tr>\n",
       "      <th>4</th>\n",
       "      <td>(171)</td>\n",
       "      <td>(1317)</td>\n",
       "      <td>0.020541</td>\n",
       "      <td>0.047529</td>\n",
       "      <td>0.010888</td>\n",
       "      <td>0.530075</td>\n",
       "      <td>11.152679</td>\n",
       "      <td>0.009912</td>\n",
       "      <td>2.026858</td>\n",
       "      <td>0.929426</td>\n",
       "    </tr>\n",
       "  </tbody>\n",
       "</table>\n",
       "</div>"
      ],
      "text/plain": [
       "  antecedents consequents  antecedent support  consequent support   support  \\\n",
       "0       (171)       (172)            0.020541            0.033668  0.011158   \n",
       "1       (172)       (171)            0.033668            0.020541  0.011158   \n",
       "2       (944)       (171)            0.046371            0.020541  0.011506   \n",
       "3       (171)       (944)            0.020541            0.046371  0.011506   \n",
       "4       (171)      (1317)            0.020541            0.047529  0.010888   \n",
       "\n",
       "   confidence       lift  leverage  conviction  zhangs_metric  \n",
       "0    0.543233  16.135019  0.010467    2.115591       0.957695  \n",
       "1    0.331422  16.135019  0.010467    1.464989       0.970705  \n",
       "2    0.248127  12.079846  0.010553    1.302692       0.961818  \n",
       "3    0.560150  12.079846  0.010553    2.168080       0.936453  \n",
       "4    0.530075  11.152679  0.009912    2.026858       0.929426  "
      ]
     },
     "execution_count": 115,
     "metadata": {},
     "output_type": "execute_result"
    }
   ],
   "source": [
    "rules.head()"
   ]
  },
  {
   "cell_type": "code",
   "execution_count": 116,
   "id": "92b6824c-5dd0-4b22-b79a-45aaf71baed3",
   "metadata": {
    "id": "92b6824c-5dd0-4b22-b79a-45aaf71baed3",
    "outputId": "b38036b8-733a-4d45-fdb3-e08c9c407d72"
   },
   "outputs": [
    {
     "data": {
      "text/plain": [
       "(1338, 10)"
      ]
     },
     "execution_count": 116,
     "metadata": {},
     "output_type": "execute_result"
    }
   ],
   "source": [
    "rules.shape"
   ]
  },
  {
   "cell_type": "code",
   "execution_count": 117,
   "id": "f001c88d-74eb-4b8d-8fe0-5791a7c58027",
   "metadata": {
    "id": "f001c88d-74eb-4b8d-8fe0-5791a7c58027"
   },
   "outputs": [],
   "source": [
    "# I used the following line to create the rules_100.csv file which only gives you 100 rules.\n",
    "# rules.sample(100).to_csv('rules_100.csv', index=False)\n",
    "\n",
    "# You must submit the rules.csv file that contains all the 1338 rules by running the following command\n",
    "rules.to_csv('rules.csv', index=False)"
   ]
  },
  {
   "cell_type": "code",
   "execution_count": null,
   "id": "06e0283a-d6b5-4b4b-b654-e5bbd6ff2cb1",
   "metadata": {
    "id": "06e0283a-d6b5-4b4b-b654-e5bbd6ff2cb1"
   },
   "outputs": [],
   "source": []
  }
 ],
 "metadata": {
  "colab": {
   "provenance": []
  },
  "kernelspec": {
   "display_name": "Python 3 (ipykernel)",
   "language": "python",
   "name": "python3"
  },
  "language_info": {
   "codemirror_mode": {
    "name": "ipython",
    "version": 3
   },
   "file_extension": ".py",
   "mimetype": "text/x-python",
   "name": "python",
   "nbconvert_exporter": "python",
   "pygments_lexer": "ipython3",
   "version": "3.12.0"
  }
 },
 "nbformat": 4,
 "nbformat_minor": 5
}
